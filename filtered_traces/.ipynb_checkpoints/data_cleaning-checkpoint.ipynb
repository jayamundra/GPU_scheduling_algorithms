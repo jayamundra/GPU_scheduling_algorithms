{
 "cells": [
  {
   "cell_type": "code",
   "execution_count": 126,
   "id": "b0cb35ed",
   "metadata": {},
   "outputs": [],
   "source": [
    "import csv\n",
    "from datetime import datetime\n",
    "import matplotlib.pyplot as plt\n",
    "import random"
   ]
  },
  {
   "cell_type": "code",
   "execution_count": 83,
   "id": "f231ab5f",
   "metadata": {},
   "outputs": [],
   "source": [
    "data = []\n",
    "with open('data_file.csv', newline='') as csvfile:\n",
    "    reader = csv.DictReader(csvfile)\n",
    "    for r in reader:\n",
    "        data.append(r)"
   ]
  },
  {
   "cell_type": "code",
   "execution_count": 84,
   "id": "7b146142",
   "metadata": {},
   "outputs": [
    {
     "name": "stdout",
     "output_type": "stream",
     "text": [
      "{'jobid': 'application_1506638472019_33200', 'start_time': '2017-10-16 18:43:30', 'end_time': 'None', 'submitted_time': '2017-10-16 18:43:24', 'user': '43863b', 'gpus': \"['gpu1', 'gpu2', 'gpu5', 'gpu7']\"}\n",
      "{'jobid': 'application_1506638472019_39042', 'start_time': '2017-10-18 18:32:51', 'end_time': 'None', 'submitted_time': '2017-10-18 18:21:56', 'user': '066e99', 'gpus': \"['gpu1']\"}\n",
      "{'jobid': 'application_1501012364013_19493', 'start_time': 'None', 'end_time': '2017-09-15 02:55:17', 'submitted_time': '2017-08-17 05:35:59', 'user': 'e90b30', 'gpus': \"['gpu0', 'gpu1', 'gpu2', 'gpu3', 'gpu4', 'gpu5', 'gpu6', 'gpu7']\"}\n",
      "{'jobid': 'application_1501012364013_12103', 'start_time': 'None', 'end_time': '2017-09-14 22:11:27', 'submitted_time': '2017-08-10 05:03:18', 'user': 'e90b30', 'gpus': \"['gpu0', 'gpu1', 'gpu2', 'gpu3', 'gpu4', 'gpu5', 'gpu6', 'gpu7']\"}\n"
     ]
    }
   ],
   "source": [
    "# Removing null values\n",
    "data2 = []\n",
    "for rec in data:\n",
    "    if rec['start_time'] == \"None\" or rec['end_time'] == \"None\":\n",
    "        print(rec)\n",
    "        pass\n",
    "    else:\n",
    "        data2.append(rec)\n",
    "    \n",
    "data = data2"
   ]
  },
  {
   "cell_type": "code",
   "execution_count": 85,
   "id": "b1ec1e2a",
   "metadata": {},
   "outputs": [],
   "source": [
    "# converted string to list\n",
    "for rec in data:\n",
    "    rec['gpus'] = list(map(lambda x: x.strip(\"''\") ,rec['gpus'].strip('[]').split(\", \")))"
   ]
  },
  {
   "cell_type": "code",
   "execution_count": 86,
   "id": "2a471c31",
   "metadata": {},
   "outputs": [],
   "source": [
    "# counting gpus\n",
    "for rec in data:\n",
    "    rec['num_gpu'] = len(rec['gpus'])"
   ]
  },
  {
   "cell_type": "code",
   "execution_count": 87,
   "id": "1b096d7f",
   "metadata": {},
   "outputs": [],
   "source": [
    "# calculating duration\n",
    "for rec in data:\n",
    "    rec['start_time'] = datetime.strptime(rec['start_time'], '%Y-%m-%d %H:%M:%S')\n",
    "    rec['end_time'] = datetime.strptime(rec['end_time'], '%Y-%m-%d %H:%M:%S')\n",
    "    rec['submitted_time'] = datetime.strptime(rec['submitted_time'], '%Y-%m-%d %H:%M:%S')"
   ]
  },
  {
   "cell_type": "code",
   "execution_count": 90,
   "id": "a37173a9",
   "metadata": {},
   "outputs": [
    {
     "name": "stdout",
     "output_type": "stream",
     "text": [
      "{'jobid': 'application_1506638472019_17235', 'start_time': datetime.datetime(2017, 10, 9, 7, 2, 5), 'end_time': datetime.datetime(2017, 10, 9, 7, 3, 11), 'submitted_time': datetime.datetime(2017, 10, 9, 7, 1, 55), 'user': '066e99', 'gpus': ['gpu0'], 'num_gpu': 1, 'duration': 66}\n"
     ]
    }
   ],
   "source": [
    "for rec in data:\n",
    "    rec['duration'] = (rec['end_time']-rec['start_time']).seconds\n",
    "    \n",
    "print(data[0])"
   ]
  },
  {
   "cell_type": "code",
   "execution_count": 91,
   "id": "447012f5",
   "metadata": {},
   "outputs": [
    {
     "name": "stdout",
     "output_type": "stream",
     "text": [
      "2017-10-09 07:01:55\n",
      "2017-09-08 06:01:21\n"
     ]
    }
   ],
   "source": [
    "print(data[0]['submitted_time'])\n",
    "data.sort(key = lambda x: x['submitted_time'])\n",
    "print(data[0]['submitted_time'])"
   ]
  },
  {
   "cell_type": "code",
   "execution_count": 95,
   "id": "b711e112",
   "metadata": {},
   "outputs": [],
   "source": [
    "data[0]['submit_time'] = 0 \n",
    "for i in range(1, len(data)):\n",
    "    data[i]['submit_time'] = (data[i]['submitted_time'] - data[i-1]['submitted_time']).seconds + data[i-1]['submit_time']"
   ]
  },
  {
   "cell_type": "code",
   "execution_count": 96,
   "id": "db50facc",
   "metadata": {},
   "outputs": [],
   "source": [
    "for i in range(len(data)-1):\n",
    "    data[i]['interval'] = data[i+1]['submit_time'] - data[i]['submit_time']\n",
    "    \n",
    "data[-1]['interval'] = 0"
   ]
  },
  {
   "cell_type": "code",
   "execution_count": 129,
   "id": "8964acfb",
   "metadata": {},
   "outputs": [],
   "source": [
    "keys = data[0].keys()\n",
    "\n",
    "a_file = open(\"clean_data.csv\", \"w\")\n",
    "dict_writer = csv.DictWriter(a_file, keys)\n",
    "dict_writer.writeheader()\n",
    "dict_writer.writerows(data)\n",
    "a_file.close()"
   ]
  },
  {
   "cell_type": "code",
   "execution_count": 109,
   "id": "6101b9b7",
   "metadata": {},
   "outputs": [],
   "source": [
    "for rec in data:\n",
    "    del rec['start_time']\n",
    "    del rec['end_time']\n",
    "    del rec['submitted_time']\n",
    "    del rec['user']\n",
    "    del rec['gpus']"
   ]
  },
  {
   "cell_type": "code",
   "execution_count": 114,
   "id": "9845e36f",
   "metadata": {},
   "outputs": [
    {
     "data": {
      "text/plain": [
       "{'jobid': 'application_1504131676014_12322',\n",
       " 'num_gpu': 1,\n",
       " 'duration': 49759,\n",
       " 'submit_time': 331540,\n",
       " 'interval': 13210}"
      ]
     },
     "execution_count": 114,
     "metadata": {},
     "output_type": "execute_result"
    }
   ],
   "source": [
    "data[9]"
   ]
  },
  {
   "cell_type": "code",
   "execution_count": 115,
   "id": "3f73574b",
   "metadata": {},
   "outputs": [],
   "source": [
    "clean_data = []\n",
    "with open('clean_data.csv', newline='') as csvfile2:\n",
    "    reader2 = csv.DictReader(csvfile2)\n",
    "    for r in reader2:\n",
    "        clean_data.append(r)"
   ]
  },
  {
   "cell_type": "code",
   "execution_count": 117,
   "id": "6fa1bbac",
   "metadata": {},
   "outputs": [
    {
     "data": {
      "text/plain": [
       "{'jobid': 'application_1504131676014_4140',\n",
       " 'num_gpu': '1',\n",
       " 'duration': '17779',\n",
       " 'submit_time': '0',\n",
       " 'interval': '4805'}"
      ]
     },
     "execution_count": 117,
     "metadata": {},
     "output_type": "execute_result"
    }
   ],
   "source": [
    "clean_data[0]"
   ]
  },
  {
   "cell_type": "code",
   "execution_count": 118,
   "id": "4eb6626b",
   "metadata": {},
   "outputs": [],
   "source": [
    "for rec in data:\n",
    "    rec['submit_time'] //= 60\n",
    "    "
   ]
  },
  {
   "cell_type": "code",
   "execution_count": 125,
   "id": "9e0258f5",
   "metadata": {},
   "outputs": [
    {
     "data": {
      "text/plain": [
       "[<matplotlib.lines.Line2D at 0x11fd855b0>]"
      ]
     },
     "execution_count": 125,
     "metadata": {},
     "output_type": "execute_result"
    },
    {
     "data": {
      "image/png": "[encoded data removed]",
      "text/plain": [
       "<Figure size 432x288 with 1 Axes>"
      ]
     },
     "metadata": {
      "needs_background": "light"
     },
     "output_type": "display_data"
    }
   ],
   "source": [
    "dur = []\n",
    "for rec in data:\n",
    "    dur.append(rec['duration'])\n",
    "\n",
    "plt.plot(sorted(dur))"
   ]
  },
  {
   "cell_type": "code",
   "execution_count": 131,
   "id": "c99814ac",
   "metadata": {},
   "outputs": [
    {
     "name": "stdout",
     "output_type": "stream",
     "text": [
      "{'jobid': 'application_1504131676014_4140', 'num_gpu': 1, 'duration': 17779, 'submit_time': 0, 'interval': 4805, 'model_name': 'vgg11'}\n"
     ]
    }
   ],
   "source": [
    "m_names = ['vgg19', 'vgg16', 'vgg11', 'alexnet', 'resnet101', 'resnet50', 'inception4', 'inception3']\n",
    "for rec in data:\n",
    "    if rec['duration'] > 55000:\n",
    "        rec['model_name'] = 'resnet152'\n",
    "    else:\n",
    "        rec['model_name'] = random.choice(m_names)\n",
    "\n",
    "print(data[0])"
   ]
  }
 ],
 "metadata": {
  "kernelspec": {
   "display_name": "Python 3",
   "language": "python",
   "name": "python3"
  },
  "language_info": {
   "codemirror_mode": {
    "name": "ipython",
    "version": 3
   },
   "file_extension": ".py",
   "mimetype": "text/x-python",
   "name": "python",
   "nbconvert_exporter": "python",
   "pygments_lexer": "ipython3",
   "version": "3.9.8"
  }
 },
 "nbformat": 4,
 "nbformat_minor": 5
}
