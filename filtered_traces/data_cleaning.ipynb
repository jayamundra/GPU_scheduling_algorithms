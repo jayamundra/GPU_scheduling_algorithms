{
 "cells": [
  {
   "cell_type": "code",
   "execution_count": 2,
   "id": "b0cb35ed",
   "metadata": {
    "pycharm": {
     "name": "#%%\n"
    }
   },
   "outputs": [],
   "source": [
    "import csv\n",
    "from datetime import datetime\n",
    "import matplotlib.pyplot as plt\n",
    "import random\n",
    "from copy import deepcopy"
   ]
  },
  {
   "cell_type": "code",
   "execution_count": 2,
   "id": "f231ab5f",
   "metadata": {
    "pycharm": {
     "name": "#%%\n"
    }
   },
   "outputs": [],
   "source": [
    "data = []\n",
    "with open('data_file.csv', newline='') as csvfile:\n",
    "    reader = csv.DictReader(csvfile)\n",
    "    for r in reader:\n",
    "        data.append(r)"
   ]
  },
  {
   "cell_type": "code",
   "execution_count": 3,
   "id": "7b146142",
   "metadata": {
    "pycharm": {
     "name": "#%%\n"
    }
   },
   "outputs": [],
   "source": [
    "# Removing null values\n",
    "data2 = []\n",
    "for rec in data:\n",
    "    if rec['start_time'] == \"None\" or rec['end_time'] == \"None\":\n",
    "#         print(rec)\n",
    "        pass\n",
    "    else:\n",
    "        data2.append(rec)\n",
    "    \n",
    "data = data2"
   ]
  },
  {
   "cell_type": "code",
   "execution_count": null,
   "id": "d570b97d",
   "metadata": {
    "pycharm": {
     "name": "#%%\n"
    }
   },
   "outputs": [],
   "source": [
    "# sampling down\n",
    "print(len(data))\n",
    "data3 = deepcopy(data)\n",
    "data = []\n",
    "print(len(data), len(data3))"
   ]
  },
  {
   "cell_type": "code",
   "execution_count": null,
   "id": "21a2c4a3",
   "metadata": {
    "pycharm": {
     "name": "#%%\n"
    }
   },
   "outputs": [],
   "source": [
    "print(len(data))\n",
    "data = data[:10001]\n",
    "print(len(data))"
   ]
  },
  {
   "cell_type": "code",
   "execution_count": null,
   "id": "0e1b3fe1",
   "metadata": {
    "pycharm": {
     "name": "#%%\n"
    }
   },
   "outputs": [],
   "source": [
    "for rec in data3:\n",
    "    if random.random() < 0.13:\n",
    "        data.append(rec)\n",
    "        \n",
    "print(len(data), len(data3))"
   ]
  },
  {
   "cell_type": "code",
   "execution_count": 4,
   "id": "b1ec1e2a",
   "metadata": {
    "pycharm": {
     "name": "#%%\n"
    }
   },
   "outputs": [],
   "source": [
    "# converted string to list\n",
    "for rec in data:\n",
    "    rec['gpus'] = list(map(lambda x: x.strip(\"''\") ,rec['gpus'].strip('[]').split(\", \")))"
   ]
  },
  {
   "cell_type": "code",
   "execution_count": 5,
   "id": "2a471c31",
   "metadata": {
    "pycharm": {
     "name": "#%%\n"
    }
   },
   "outputs": [],
   "source": [
    "# counting gpus\n",
    "for rec in data:\n",
    "    rec['num_gpu'] = len(rec['gpus'])"
   ]
  },
  {
   "cell_type": "code",
   "execution_count": 6,
   "id": "65ffef94",
   "metadata": {
    "pycharm": {
     "name": "#%%\n"
    }
   },
   "outputs": [],
   "source": [
    "# remove 128 gpu required jobs\n",
    "data2 = []\n",
    "for rec in data:\n",
    "    if rec['num_gpu'] < 128:\n",
    "        data2.append(rec)\n",
    "\n",
    "data = data2"
   ]
  },
  {
   "cell_type": "code",
   "execution_count": 7,
   "id": "1b096d7f",
   "metadata": {
    "pycharm": {
     "name": "#%%\n"
    }
   },
   "outputs": [],
   "source": [
    "# calculating duration\n",
    "for rec in data:\n",
    "    rec['job_id'] = rec['jobid']\n",
    "    rec['start_time'] = datetime.strptime(rec['start_time'], '%Y-%m-%d %H:%M:%S')\n",
    "    rec['end_time'] = datetime.strptime(rec['end_time'], '%Y-%m-%d %H:%M:%S')\n",
    "    rec['submitted_time'] = datetime.strptime(rec['submitted_time'], '%Y-%m-%d %H:%M:%S')"
   ]
  },
  {
   "cell_type": "code",
   "execution_count": 8,
   "id": "a37173a9",
   "metadata": {
    "pycharm": {
     "name": "#%%\n"
    }
   },
   "outputs": [
    {
     "name": "stdout",
     "output_type": "stream",
     "text": [
      "{'jobid': 'application_1506638472019_17235', 'start_time': datetime.datetime(2017, 10, 9, 7, 2, 5), 'end_time': datetime.datetime(2017, 10, 9, 7, 3, 11), 'submitted_time': datetime.datetime(2017, 10, 9, 7, 1, 55), 'user': '066e99', 'gpus': ['gpu0'], 'num_gpu': 1, 'job_id': 'application_1506638472019_17235', 'duration': 66}\n"
     ]
    }
   ],
   "source": [
    "for rec in data:\n",
    "    rec['duration'] = (rec['end_time']-rec['start_time']).seconds\n",
    "    \n",
    "print(data[0])"
   ]
  },
  {
   "cell_type": "code",
   "execution_count": 9,
   "id": "447012f5",
   "metadata": {
    "pycharm": {
     "name": "#%%\n"
    }
   },
   "outputs": [
    {
     "name": "stdout",
     "output_type": "stream",
     "text": [
      "2017-10-09 07:01:55\n",
      "2017-09-08 06:01:21\n"
     ]
    }
   ],
   "source": [
    "print(data[0]['submitted_time'])\n",
    "\n",
    "data.sort(key = lambda x: x['submitted_time'])\n",
    "\n",
    "print(data[0]['submitted_time'])"
   ]
  },
  {
   "cell_type": "code",
   "execution_count": 10,
   "id": "b711e112",
   "metadata": {
    "pycharm": {
     "name": "#%%\n"
    }
   },
   "outputs": [],
   "source": [
    "data[0]['submit_time'] = 0 \n",
    "for i in range(1, len(data)):\n",
    "    data[i]['submit_time'] = (data[i]['submitted_time'] - data[i-1]['submitted_time']).seconds + data[i-1]['submit_time']\n",
    "    "
   ]
  },
  {
   "cell_type": "code",
   "execution_count": 11,
   "id": "db50facc",
   "metadata": {
    "pycharm": {
     "name": "#%%\n"
    }
   },
   "outputs": [],
   "source": [
    "for i in range(len(data)-1):\n",
    "    data[i]['interval'] = data[i+1]['submit_time'] - data[i]['submit_time']\n",
    "    \n",
    "data[-1]['interval'] = 0"
   ]
  },
  {
   "cell_type": "code",
   "execution_count": 12,
   "id": "6101b9b7",
   "metadata": {
    "pycharm": {
     "name": "#%%\n"
    }
   },
   "outputs": [],
   "source": [
    "for rec in data:\n",
    "    del rec['start_time']\n",
    "    del rec['end_time']\n",
    "    del rec['submitted_time']\n",
    "    del rec['user']\n",
    "    del rec['gpus']\n",
    "    del rec['jobid']"
   ]
  },
  {
   "cell_type": "code",
   "execution_count": null,
   "id": "9845e36f",
   "metadata": {
    "pycharm": {
     "name": "#%%\n"
    }
   },
   "outputs": [],
   "source": [
    "print(data[9])\n",
    "print(data[10])"
   ]
  },
  {
   "cell_type": "code",
   "execution_count": 13,
   "id": "18409582",
   "metadata": {
    "pycharm": {
     "name": "#%%\n"
    }
   },
   "outputs": [],
   "source": [
    "for rec in data:\n",
    "    rec['submit_time'] //= 60\n",
    "    rec['interval'] //= 60\n",
    "    "
   ]
  },
  {
   "cell_type": "code",
   "execution_count": 14,
   "id": "3ea27c11",
   "metadata": {
    "pycharm": {
     "name": "#%%\n"
    }
   },
   "outputs": [
    {
     "name": "stdout",
     "output_type": "stream",
     "text": [
      "{'num_gpu': 1, 'job_id': 'application_1504131676014_4140', 'duration': 17779, 'submit_time': 0, 'interval': 80, 'model_name': 'vgg19'}\n"
     ]
    }
   ],
   "source": [
    "m_names = ['vgg19', 'vgg16', 'vgg11', 'alexnet', 'resnet101', 'resnet50', 'inception4', 'inception3']\n",
    "for rec in data:\n",
    "    if rec['duration'] > 55000:\n",
    "        rec['model_name'] = 'resnet152'\n",
    "    else:\n",
    "        rec['model_name'] = random.choice(m_names)\n",
    "\n",
    "print(data[0])"
   ]
  },
  {
   "cell_type": "code",
   "execution_count": 15,
   "id": "8964acfb",
   "metadata": {
    "pycharm": {
     "name": "#%%\n"
    }
   },
   "outputs": [],
   "source": [
    "keys = data[0].keys()\n",
    "\n",
    "a_file = open(\"sampled_clean_data.csv\", \"w\")\n",
    "dict_writer = csv.DictWriter(a_file, keys)\n",
    "dict_writer.writeheader()\n",
    "dict_writer.writerows(data)\n",
    "a_file.close()"
   ]
  },
  {
   "cell_type": "code",
   "execution_count": 3,
   "id": "7e982fbc",
   "metadata": {
    "pycharm": {
     "name": "#%%\n"
    }
   },
   "outputs": [],
   "source": [
    "clean_data = []\n",
    "with open('clean_data.csv', newline='') as csvfile2:\n",
    "    reader2 = csv.DictReader(csvfile2)\n",
    "    for r in reader2:\n",
    "        clean_data.append(r)"
   ]
  },
  {
   "cell_type": "code",
   "execution_count": 5,
   "id": "5bdefae1",
   "metadata": {
    "pycharm": {
     "name": "#%%\n"
    }
   },
   "outputs": [
    {
     "data": {
      "text/plain": [
       "[<matplotlib.lines.Line2D at 0x7f2364ea8df0>]"
      ]
     },
     "execution_count": 5,
     "metadata": {},
     "output_type": "execute_result"
    },
    {
     "data": {
      "image/png": "[encoded data removed]",
      "text/plain": [
       "<Figure size 432x288 with 1 Axes>"
      ]
     },
     "metadata": {
      "needs_background": "light"
     },
     "output_type": "display_data"
    }
   ],
   "source": [
    "dur = []\n",
    "for rec in clean_data:\n",
    "    dur.append(rec['duration'])\n",
    "\n",
    "plt.plot(sorted(dur))"
   ]
  },
  {
   "cell_type": "code",
   "execution_count": null,
   "id": "e0def90a",
   "metadata": {
    "pycharm": {
     "name": "#%%\n"
    }
   },
   "outputs": [],
   "source": [
    "# len(data)\n",
    "max(rec['num_gpu'] for rec in data)\n"
   ]
  },
  {
   "cell_type": "markdown",
   "id": "3fe5b4fc",
   "metadata": {
    "pycharm": {
     "name": "#%% md\n"
    }
   },
   "source": [
    "## Taking first 10k jobs and filtering by num_GPU < 128"
   ]
  },
  {
   "cell_type": "code",
   "execution_count": 6,
   "id": "dbcfdd53",
   "metadata": {
    "pycharm": {
     "name": "#%%\n"
    }
   },
   "outputs": [
    {
     "ename": "NameError",
     "evalue": "name 'data' is not defined",
     "output_type": "error",
     "traceback": [
      "\u001B[0;31m---------------------------------------------------------------------------\u001B[0m",
      "\u001B[0;31mNameError\u001B[0m                                 Traceback (most recent call last)",
      "\u001B[0;32m<ipython-input-6-90a920f705ce>\u001B[0m in \u001B[0;36m<module>\u001B[0;34m\u001B[0m\n\u001B[1;32m      1\u001B[0m \u001B[0mdata2\u001B[0m \u001B[0;34m=\u001B[0m \u001B[0;34m[\u001B[0m\u001B[0;34m]\u001B[0m\u001B[0;34m\u001B[0m\u001B[0;34m\u001B[0m\u001B[0m\n\u001B[0;32m----> 2\u001B[0;31m \u001B[0;32mfor\u001B[0m \u001B[0mrec\u001B[0m \u001B[0;32min\u001B[0m \u001B[0mdata\u001B[0m\u001B[0;34m:\u001B[0m\u001B[0;34m\u001B[0m\u001B[0;34m\u001B[0m\u001B[0m\n\u001B[0m\u001B[1;32m      3\u001B[0m     \u001B[0;32mif\u001B[0m \u001B[0mrec\u001B[0m\u001B[0;34m[\u001B[0m\u001B[0;34m'num_gpu'\u001B[0m\u001B[0;34m]\u001B[0m \u001B[0;34m<\u001B[0m \u001B[0;36m128\u001B[0m\u001B[0;34m:\u001B[0m\u001B[0;34m\u001B[0m\u001B[0;34m\u001B[0m\u001B[0m\n\u001B[1;32m      4\u001B[0m         \u001B[0mdata2\u001B[0m\u001B[0;34m.\u001B[0m\u001B[0mappend\u001B[0m\u001B[0;34m(\u001B[0m\u001B[0mrec\u001B[0m\u001B[0;34m)\u001B[0m\u001B[0;34m\u001B[0m\u001B[0;34m\u001B[0m\u001B[0m\n\u001B[1;32m      5\u001B[0m \u001B[0;34m\u001B[0m\u001B[0m\n",
      "\u001B[0;31mNameError\u001B[0m: name 'data' is not defined"
     ]
    }
   ],
   "source": [
    "data2 = []\n",
    "for rec in data:\n",
    "    if rec['num_gpu'] < 128:\n",
    "        data2.append(rec)\n",
    "    \n",
    "print(len(data))\n",
    "print(len(data2))"
   ]
  },
  {
   "cell_type": "code",
   "execution_count": 27,
   "id": "ab097a94",
   "metadata": {
    "pycharm": {
     "name": "#%%\n"
    }
   },
   "outputs": [
    {
     "name": "stdout",
     "output_type": "stream",
     "text": [
      "77466\n",
      "{'num_gpu': '1', 'job_id': 'application_1504131676014_4140', 'duration': '17779', 'submit_time': '0', 'interval': '4805', 'model_name': 'vgg16'}\n",
      "\n",
      "\n",
      "defaultdict(<class 'int'>, {'1': 72760, '4': 1494, '8': 1265, '16': 144, '2': 1735, '32': 52, '12': 4, '24': 4, '64': 5, '128': 3})\n",
      "10000\n",
      "defaultdict(<class 'int'>, {'1': 5297, '4': 1494, '8': 1265, '16': 144, '2': 1735, '32': 52, '24': 4, '12': 4, '64': 5})\n"
     ]
    }
   ],
   "source": [
    "from collections import defaultdict\n",
    "print(len(clean_data))\n",
    "\n",
    "numGPU = defaultdict(int)\n",
    "jobs_1gpu = []\n",
    "jobs_other = []\n",
    "print(clean_data[0])\n",
    "print(\"\\n\")\n",
    "for c in clean_data:\n",
    "    numGPU[c['num_gpu']] += 1\n",
    "    if c['num_gpu'] == '1':\n",
    "        jobs_1gpu.append(c)\n",
    "    elif int(c['num_gpu']) < 128:\n",
    "        jobs_other.append(c)\n",
    "print(numGPU)\n",
    "\n",
    "final_jobs = [x for x in jobs_other]\n",
    "for x in jobs_1gpu:\n",
    "    final_jobs.append(x)\n",
    "    if len(final_jobs) == 10000:\n",
    "        break\n",
    "print(len(final_jobs))\n",
    "\n",
    "final_jobs.sort(key = lambda x: int(x['submit_time']))\n",
    "\n",
    "for i in range(len(final_jobs)):\n",
    "    final_jobs[i]['submit_time'] = clean_data[i]['submit_time']\n",
    "\n",
    "numG = defaultdict(int)\n",
    "for c in final_jobs:\n",
    "    numG[c['num_gpu']] += 1\n",
    "\n",
    "print(numG)\n",
    "\n",
    "keys = clean_data[0].keys()\n",
    "\n",
    "a_file = open(\"all_gpu_data.csv\", \"w\")\n",
    "dict_writer = csv.DictWriter(a_file, keys)\n",
    "dict_writer.writeheader()\n",
    "dict_writer.writerows(final_jobs)\n",
    "a_file.close()"
   ]
  },
  {
   "cell_type": "code",
   "execution_count": 28,
   "outputs": [
    {
     "name": "stdout",
     "output_type": "stream",
     "text": [
      "10000\n"
     ]
    }
   ],
   "source": [
    "print(len(final_jobs))"
   ],
   "metadata": {
    "collapsed": false,
    "pycharm": {
     "name": "#%%\n"
    }
   }
  }
 ],
 "metadata": {
  "kernelspec": {
   "display_name": "Python 3",
   "language": "python",
   "name": "python3"
  },
  "language_info": {
   "codemirror_mode": {
    "name": "ipython",
    "version": 3
   },
   "file_extension": ".py",
   "mimetype": "text/x-python",
   "name": "python",
   "nbconvert_exporter": "python",
   "pygments_lexer": "ipython3",
   "version": "3.8.10"
  }
 },
 "nbformat": 4,
 "nbformat_minor": 5
}